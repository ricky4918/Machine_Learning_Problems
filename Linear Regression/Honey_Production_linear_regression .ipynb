{
 "cells": [
  {
   "cell_type": "code",
   "execution_count": 9,
   "id": "8dd9cd0e",
   "metadata": {},
   "outputs": [],
   "source": [
    "import pandas as pd\n",
    "import matplotlib.pyplot as plt\n",
    "import numpy as np\n",
    "from sklearn.linear_model import LinearRegression"
   ]
  },
  {
   "cell_type": "code",
   "execution_count": 5,
   "id": "85d5d4e1",
   "metadata": {},
   "outputs": [
    {
     "name": "stdout",
     "output_type": "stream",
     "text": [
      "  state    numcol  yieldpercol   totalprod      stocks  priceperlb  \\\n",
      "0    AL   16000.0           71   1136000.0    159000.0        0.72   \n",
      "1    AZ   55000.0           60   3300000.0   1485000.0        0.64   \n",
      "2    AR   53000.0           65   3445000.0   1688000.0        0.59   \n",
      "3    CA  450000.0           83  37350000.0  12326000.0        0.62   \n",
      "4    CO   27000.0           72   1944000.0   1594000.0        0.70   \n",
      "\n",
      "    prodvalue  year  \n",
      "0    818000.0  1998  \n",
      "1   2112000.0  1998  \n",
      "2   2033000.0  1998  \n",
      "3  23157000.0  1998  \n",
      "4   1361000.0  1998  \n"
     ]
    }
   ],
   "source": [
    "#Check out the Data\n",
    "df = pd.read_csv(\"honeyproduction.csv\")\n",
    "print(df.head())\n",
    "prod_per_year = df.groupby('year').totalprod.mean().reset_index()\n",
    "X = prod_per_year['year']\n",
    "X = X.values.reshape(-1,1)\n",
    "y = prod_per_year['totalprod']"
   ]
  },
  {
   "cell_type": "code",
   "execution_count": 11,
   "id": "bf860618",
   "metadata": {},
   "outputs": [
    {
     "name": "stdout",
     "output_type": "stream",
     "text": [
      "slope: -88303.18915238192\n",
      "intercept: 181208083.10732976\n"
     ]
    },
    {
     "data": {
      "image/png": "[encoded data removed]",
      "text/plain": [
       "<Figure size 432x288 with 1 Axes>"
      ]
     },
     "metadata": {
      "needs_background": "light"
     },
     "output_type": "display_data"
    }
   ],
   "source": [
    "#Create and Fit a Linear Regression Model\n",
    "regr = LinearRegression()\n",
    "regr.fit(X,y)\n",
    "print('slope:',regr.coef_[0])\n",
    "print('intercept:',regr.intercept_)\n",
    "\n",
    "y_predict = regr.predict(X)\n",
    "\n",
    "\n",
    "\n",
    "plt.scatter(X,y)\n",
    "plt.scatter(X,y_predict)\n",
    "plt.show()\n"
   ]
  },
  {
   "cell_type": "code",
   "execution_count": 13,
   "id": "cd0da3c4",
   "metadata": {},
   "outputs": [
    {
     "name": "stdout",
     "output_type": "stream",
     "text": [
      "274848.5340991914\n"
     ]
    },
    {
     "data": {
      "image/png": "[encoded data removed]",
      "text/plain": [
       "<Figure size 432x288 with 1 Axes>"
      ]
     },
     "metadata": {
      "needs_background": "light"
     },
     "output_type": "display_data"
    }
   ],
   "source": [
    "#Future prediction\n",
    "\n",
    "X_future = np.array(range(2013,2050))\n",
    "X_future = X_future.reshape(-1,1)\n",
    "\n",
    "future_predict = regr.predict(X)\n",
    "future_predict = regr.predict(X_future)\n",
    "\n",
    "print(future_predict[-1])\n",
    "\n",
    "plt.scatter(X_future,future_predict)\n",
    "plt.show()"
   ]
  }
 ],
 "metadata": {
  "kernelspec": {
   "display_name": "Python 3 (ipykernel)",
   "language": "python",
   "name": "python3"
  },
  "language_info": {
   "codemirror_mode": {
    "name": "ipython",
    "version": 3
   },
   "file_extension": ".py",
   "mimetype": "text/x-python",
   "name": "python",
   "nbconvert_exporter": "python",
   "pygments_lexer": "ipython3",
   "version": "3.8.10"
  }
 },
 "nbformat": 4,
 "nbformat_minor": 5
}
